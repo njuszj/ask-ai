{
 "cells": [
  {
   "cell_type": "code",
   "execution_count": 3,
   "id": "6adc8e07",
   "metadata": {},
   "outputs": [],
   "source": [
    "import requests\n",
    "import json\n",
    "\n",
    "# 替换为你的 API Key\n",
    "API_KEY = \"\"\n",
    "\n",
    "# API 地址\n",
    "API_URL = \"https://api.deepseek.com/chat/completions\"\n",
    "\n",
    "# 请求头\n",
    "headers = {\n",
    "    \"Authorization\": f\"Bearer {API_KEY}\",\n",
    "    \"Content-Type\": \"application/json\",\n",
    "    \"Accept\": \"application/json\"\n",
    "}\n",
    "\n",
    "# 请求体\n",
    "data = {\n",
    "    \"model\": \"deepseek-chat\",\n",
    "    \"messages\": [\n",
    "        {\"role\": \"user\", \"content\": \"写一段linux bash脚本，遍历指定文件夹下的所有文件并打印出文件名。\"}\n",
    "    ],\n",
    "    \"temperature\": 0.7,\n",
    "    \"stream\": True  # 开启流式输出\n",
    "}\n",
    "\n",
    "# 发送请求\n",
    "response = requests.post(API_URL, headers=headers, json=data, stream=True)\n",
    "\n",
    "# 逐行读取响应内容\n",
    "for line in response.iter_lines():\n",
    "    if line:\n",
    "        decoded_line = line.decode('utf-8')\n",
    "        if decoded_line.startswith(\"data: \"):\n",
    "            data_str = decoded_line[len(\"data: \"):]\n",
    "\n",
    "            if data_str == \"[DONE]\":\n",
    "                print(\"\\n流式输出结束\")\n",
    "                break\n",
    "\n",
    "            try:\n",
    "                chunk = json.loads(data_str)\n",
    "                content = chunk[\"choices\"][0][\"delta\"].get(\"content\", \"\")\n",
    "                if content:\n",
    "                    print(content, end=\"\", flush=True)  # 实时输出内容\n",
    "            except json.JSONDecodeError:\n",
    "                continue"
   ]
  },
  {
   "cell_type": "code",
   "execution_count": null,
   "id": "bdefe3a1",
   "metadata": {},
   "outputs": [],
   "source": []
  }
 ],
 "metadata": {
  "kernelspec": {
   "display_name": "base",
   "language": "python",
   "name": "python3"
  },
  "language_info": {
   "codemirror_mode": {
    "name": "ipython",
    "version": 3
   },
   "file_extension": ".py",
   "mimetype": "text/x-python",
   "name": "python",
   "nbconvert_exporter": "python",
   "pygments_lexer": "ipython3",
   "version": "3.12.9"
  }
 },
 "nbformat": 4,
 "nbformat_minor": 5
}
